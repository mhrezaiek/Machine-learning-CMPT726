{
 "cells": [
  {
   "cell_type": "code",
   "execution_count": 1,
   "metadata": {
    "id": "QdvJwOOF5Oud"
   },
   "outputs": [],
   "source": [
    "import keras\n",
    "import tensorflow as tf\n",
    "from tensorflow.keras.layers import Input, Dense, Add, concatenate\n",
    "from tensorflow.keras.models import Model\n",
    "import pandas as pd\n",
    "import numpy as np \n",
    "from random import random\n",
    "import time\n",
    "from tqdm import tqdm\n",
    "from sklearn.model_selection import train_test_split\n",
    "from keras.utils import to_categorical\n",
    "import keras.backend as K\n",
    "import pickle\n",
    "from keras.initializers import RandomUniform, TruncatedNormal"
   ]
  },
  {
   "cell_type": "code",
   "execution_count": 2,
   "metadata": {
    "id": "DVtshyU66fLP"
   },
   "outputs": [
    {
     "ename": "FileNotFoundError",
     "evalue": "[Errno 2] No such file or directory: '/content/concatenated_matrix_with_passive.pickle'",
     "output_type": "error",
     "traceback": [
      "\u001b[0;31m---------------------------------------------------------------------------\u001b[0m",
      "\u001b[0;31mFileNotFoundError\u001b[0m                         Traceback (most recent call last)",
      "\u001b[0;32m<ipython-input-2-fb694580c69a>\u001b[0m in \u001b[0;36m<module>\u001b[0;34m\u001b[0m\n\u001b[0;32m----> 1\u001b[0;31m \u001b[0;32mwith\u001b[0m \u001b[0mopen\u001b[0m\u001b[0;34m(\u001b[0m\u001b[0;34m\"/content/concatenated_matrix_with_passive.pickle\"\u001b[0m\u001b[0;34m,\u001b[0m \u001b[0;34m\"rb\"\u001b[0m\u001b[0;34m)\u001b[0m \u001b[0;32mas\u001b[0m \u001b[0mpickle_file\u001b[0m\u001b[0;34m:\u001b[0m\u001b[0;34m\u001b[0m\u001b[0;34m\u001b[0m\u001b[0m\n\u001b[0m\u001b[1;32m      2\u001b[0m     \u001b[0mcontent\u001b[0m \u001b[0;34m=\u001b[0m \u001b[0mpickle\u001b[0m\u001b[0;34m.\u001b[0m\u001b[0mload\u001b[0m\u001b[0;34m(\u001b[0m\u001b[0mpickle_file\u001b[0m\u001b[0;34m)\u001b[0m\u001b[0;34m\u001b[0m\u001b[0;34m\u001b[0m\u001b[0m\n",
      "\u001b[0;31mFileNotFoundError\u001b[0m: [Errno 2] No such file or directory: '/content/concatenated_matrix_with_passive.pickle'"
     ]
    }
   ],
   "source": [
    "with open(\"/content/concatenated_matrix_with_passive.pickle\", \"rb\") as pickle_file:\n",
    "    content = pickle.load(pickle_file)\n"
   ]
  },
  {
   "cell_type": "code",
   "execution_count": 63,
   "metadata": {
    "id": "f3ZC390jC31m"
   },
   "outputs": [],
   "source": [
    "y = content[:,-1]\n",
    "x = content[:,:-1]"
   ]
  },
  {
   "cell_type": "code",
   "execution_count": 64,
   "metadata": {
    "id": "rRkHWgrDDP9T"
   },
   "outputs": [],
   "source": [
    "y = np.asanyarray(y)\n",
    "x =  np.asanyarray(x)\n",
    "X_train, X_test, y_train, y_test= train_test_split(x, y, test_size=0.4, random_state=23)\n"
   ]
  },
  {
   "cell_type": "code",
   "execution_count": 21,
   "metadata": {
    "colab": {
     "base_uri": "https://localhost:8080/"
    },
    "id": "UYrZsD-pEaZd",
    "outputId": "f39c44af-7883-4be1-dc75-096316add95f"
   },
   "outputs": [
    {
     "data": {
      "text/plain": [
       "(17000,)"
      ]
     },
     "execution_count": 21,
     "metadata": {
      "tags": []
     },
     "output_type": "execute_result"
    }
   ],
   "source": [
    "np.shape(y)"
   ]
  },
  {
   "cell_type": "code",
   "execution_count": 68,
   "metadata": {
    "id": "crnN81KVEaNV"
   },
   "outputs": [],
   "source": [
    "input1 = Input(shape=(31,))\n",
    "x  = Dense(300, kernel_initializer = RandomUniform(),bias_initializer = TruncatedNormal(), activation='relu')(input1)\n",
    "x  = Dense(150, kernel_initializer = RandomUniform(),bias_initializer = TruncatedNormal(), activation='relu')(x)\n",
    "x  = Dense(50, kernel_initializer = RandomUniform(),bias_initializer = TruncatedNormal(), activation='sigmoid')(x)\n",
    "\n",
    "\n",
    "out= tf.keras.layers.Dense(1, kernel_initializer = RandomUniform(), bias_initializer = TruncatedNormal(), activation='relu')(x)\n",
    "\n",
    "model = tf.keras.models.Model(inputs=input1, outputs=out)"
   ]
  },
  {
   "cell_type": "code",
   "execution_count": 28,
   "metadata": {
    "id": "UxuDofqrJPRl"
   },
   "outputs": [],
   "source": []
  },
  {
   "cell_type": "code",
   "execution_count": 69,
   "metadata": {
    "colab": {
     "base_uri": "https://localhost:8080/"
    },
    "id": "4FT-55h1JXDp",
    "outputId": "7d73cba7-5db3-459c-db06-89acff0159fd"
   },
   "outputs": [
    {
     "name": "stdout",
     "output_type": "stream",
     "text": [
      "model complied\n"
     ]
    }
   ],
   "source": [
    "Adam = tf.keras.optimizers.Adam(learning_rate=0.0001)\n",
    "model.compile(loss='binary_crossentropy', optimizer=Adam, metrics=[\"accuracy\"]) \n",
    "print('model complied')\n"
   ]
  },
  {
   "cell_type": "code",
   "execution_count": 70,
   "metadata": {
    "colab": {
     "base_uri": "https://localhost:8080/"
    },
    "id": "pZdVaqC0LJdq",
    "outputId": "1dfbca8c-1352-4526-e4eb-c4a65b492039"
   },
   "outputs": [
    {
     "name": "stdout",
     "output_type": "stream",
     "text": [
      "Epoch 1/100\n",
      "80/80 [==============================] - 1s 7ms/step - loss: 0.6099 - accuracy: 0.7333 - val_loss: 0.5803 - val_accuracy: 0.7224\n",
      "Epoch 2/100\n",
      "80/80 [==============================] - 0s 5ms/step - loss: 0.5449 - accuracy: 0.7333 - val_loss: 0.5147 - val_accuracy: 0.7225\n",
      "Epoch 3/100\n",
      "80/80 [==============================] - 0s 5ms/step - loss: 0.4405 - accuracy: 0.7575 - val_loss: 0.3628 - val_accuracy: 0.7918\n",
      "Epoch 4/100\n",
      "80/80 [==============================] - 0s 5ms/step - loss: 0.3113 - accuracy: 0.8406 - val_loss: 0.2774 - val_accuracy: 0.8650\n",
      "Epoch 5/100\n",
      "80/80 [==============================] - 0s 5ms/step - loss: 0.2545 - accuracy: 0.8811 - val_loss: 0.2362 - val_accuracy: 0.8938\n",
      "Epoch 6/100\n",
      "80/80 [==============================] - 0s 5ms/step - loss: 0.2228 - accuracy: 0.8932 - val_loss: 0.2148 - val_accuracy: 0.8951\n",
      "Epoch 7/100\n",
      "80/80 [==============================] - 0s 6ms/step - loss: 0.2083 - accuracy: 0.8936 - val_loss: 0.2136 - val_accuracy: 0.8990\n",
      "Epoch 8/100\n",
      "80/80 [==============================] - 0s 6ms/step - loss: 0.2018 - accuracy: 0.8998 - val_loss: 0.2050 - val_accuracy: 0.8981\n",
      "Epoch 9/100\n",
      "80/80 [==============================] - 0s 5ms/step - loss: 0.1996 - accuracy: 0.9015 - val_loss: 0.1987 - val_accuracy: 0.9024\n",
      "Epoch 10/100\n",
      "80/80 [==============================] - 0s 5ms/step - loss: 0.1934 - accuracy: 0.9036 - val_loss: 0.1969 - val_accuracy: 0.9035\n",
      "Epoch 11/100\n",
      "80/80 [==============================] - 0s 4ms/step - loss: 0.1902 - accuracy: 0.9064 - val_loss: 0.1965 - val_accuracy: 0.9075\n",
      "Epoch 12/100\n",
      "80/80 [==============================] - 0s 5ms/step - loss: 0.1880 - accuracy: 0.9083 - val_loss: 0.1946 - val_accuracy: 0.9035\n",
      "Epoch 13/100\n",
      "80/80 [==============================] - 0s 5ms/step - loss: 0.1855 - accuracy: 0.9099 - val_loss: 0.1886 - val_accuracy: 0.9100\n",
      "Epoch 14/100\n",
      "80/80 [==============================] - 0s 5ms/step - loss: 0.1827 - accuracy: 0.9118 - val_loss: 0.1871 - val_accuracy: 0.9110\n",
      "Epoch 15/100\n",
      "80/80 [==============================] - 0s 5ms/step - loss: 0.1808 - accuracy: 0.9142 - val_loss: 0.1849 - val_accuracy: 0.9112\n",
      "Epoch 16/100\n",
      "80/80 [==============================] - 0s 5ms/step - loss: 0.1795 - accuracy: 0.9154 - val_loss: 0.1829 - val_accuracy: 0.9124\n",
      "Epoch 17/100\n",
      "80/80 [==============================] - 0s 5ms/step - loss: 0.1766 - accuracy: 0.9171 - val_loss: 0.1816 - val_accuracy: 0.9137\n",
      "Epoch 18/100\n",
      "80/80 [==============================] - 0s 4ms/step - loss: 0.1764 - accuracy: 0.9162 - val_loss: 0.1855 - val_accuracy: 0.9100\n",
      "Epoch 19/100\n",
      "80/80 [==============================] - 0s 5ms/step - loss: 0.1750 - accuracy: 0.9177 - val_loss: 0.1782 - val_accuracy: 0.9159\n",
      "Epoch 20/100\n",
      "80/80 [==============================] - 0s 5ms/step - loss: 0.1716 - accuracy: 0.9195 - val_loss: 0.1774 - val_accuracy: 0.9159\n",
      "Epoch 21/100\n",
      "80/80 [==============================] - 0s 5ms/step - loss: 0.1746 - accuracy: 0.9223 - val_loss: 0.1756 - val_accuracy: 0.9163\n",
      "Epoch 22/100\n",
      "80/80 [==============================] - 0s 5ms/step - loss: 0.1686 - accuracy: 0.9215 - val_loss: 0.1781 - val_accuracy: 0.9150\n",
      "Epoch 23/100\n",
      "80/80 [==============================] - 0s 5ms/step - loss: 0.1682 - accuracy: 0.9229 - val_loss: 0.1733 - val_accuracy: 0.9199\n",
      "Epoch 24/100\n",
      "80/80 [==============================] - 0s 5ms/step - loss: 0.1653 - accuracy: 0.9236 - val_loss: 0.1841 - val_accuracy: 0.9166\n",
      "Epoch 25/100\n",
      "80/80 [==============================] - 0s 5ms/step - loss: 0.1654 - accuracy: 0.9230 - val_loss: 0.1752 - val_accuracy: 0.9260\n",
      "Epoch 26/100\n",
      "80/80 [==============================] - 0s 4ms/step - loss: 0.1650 - accuracy: 0.9247 - val_loss: 0.1715 - val_accuracy: 0.9241\n",
      "Epoch 27/100\n",
      "80/80 [==============================] - 0s 5ms/step - loss: 0.1619 - accuracy: 0.9237 - val_loss: 0.1700 - val_accuracy: 0.9196\n",
      "Epoch 28/100\n",
      "80/80 [==============================] - 0s 5ms/step - loss: 0.1609 - accuracy: 0.9252 - val_loss: 0.1677 - val_accuracy: 0.9224\n",
      "Epoch 29/100\n",
      "80/80 [==============================] - 0s 5ms/step - loss: 0.1590 - accuracy: 0.9273 - val_loss: 0.1686 - val_accuracy: 0.9257\n",
      "Epoch 30/100\n",
      "80/80 [==============================] - 0s 5ms/step - loss: 0.1585 - accuracy: 0.9283 - val_loss: 0.1661 - val_accuracy: 0.9229\n",
      "Epoch 31/100\n",
      "80/80 [==============================] - 0s 5ms/step - loss: 0.1569 - accuracy: 0.9280 - val_loss: 0.1681 - val_accuracy: 0.9228\n",
      "Epoch 32/100\n",
      "80/80 [==============================] - 0s 5ms/step - loss: 0.1555 - accuracy: 0.9288 - val_loss: 0.1672 - val_accuracy: 0.9240\n",
      "Epoch 33/100\n",
      "80/80 [==============================] - 0s 5ms/step - loss: 0.1549 - accuracy: 0.9295 - val_loss: 0.1654 - val_accuracy: 0.9254\n",
      "Epoch 34/100\n",
      "80/80 [==============================] - 0s 5ms/step - loss: 0.1531 - accuracy: 0.9311 - val_loss: 0.1647 - val_accuracy: 0.9263\n",
      "Epoch 35/100\n",
      "80/80 [==============================] - 0s 5ms/step - loss: 0.1516 - accuracy: 0.9316 - val_loss: 0.1739 - val_accuracy: 0.9240\n",
      "Epoch 36/100\n",
      "80/80 [==============================] - 0s 5ms/step - loss: 0.1503 - accuracy: 0.9325 - val_loss: 0.1618 - val_accuracy: 0.9291\n",
      "Epoch 37/100\n",
      "80/80 [==============================] - 0s 5ms/step - loss: 0.1482 - accuracy: 0.9331 - val_loss: 0.1611 - val_accuracy: 0.9281\n",
      "Epoch 38/100\n",
      "80/80 [==============================] - 0s 5ms/step - loss: 0.1472 - accuracy: 0.9325 - val_loss: 0.1674 - val_accuracy: 0.9271\n",
      "Epoch 39/100\n",
      "80/80 [==============================] - 0s 4ms/step - loss: 0.1459 - accuracy: 0.9348 - val_loss: 0.1588 - val_accuracy: 0.9300\n",
      "Epoch 40/100\n",
      "80/80 [==============================] - 0s 5ms/step - loss: 0.1449 - accuracy: 0.9348 - val_loss: 0.1573 - val_accuracy: 0.9304\n",
      "Epoch 41/100\n",
      "80/80 [==============================] - 0s 5ms/step - loss: 0.1435 - accuracy: 0.9358 - val_loss: 0.1572 - val_accuracy: 0.9328\n",
      "Epoch 42/100\n",
      "80/80 [==============================] - 0s 5ms/step - loss: 0.1418 - accuracy: 0.9359 - val_loss: 0.1554 - val_accuracy: 0.9301\n",
      "Epoch 43/100\n",
      "80/80 [==============================] - 0s 5ms/step - loss: 0.1410 - accuracy: 0.9377 - val_loss: 0.1548 - val_accuracy: 0.9310\n",
      "Epoch 44/100\n",
      "80/80 [==============================] - 0s 4ms/step - loss: 0.1391 - accuracy: 0.9386 - val_loss: 0.1537 - val_accuracy: 0.9331\n",
      "Epoch 45/100\n",
      "80/80 [==============================] - 0s 5ms/step - loss: 0.1406 - accuracy: 0.9393 - val_loss: 0.1592 - val_accuracy: 0.9326\n",
      "Epoch 46/100\n",
      "80/80 [==============================] - 0s 5ms/step - loss: 0.1488 - accuracy: 0.9337 - val_loss: 0.1575 - val_accuracy: 0.9331\n",
      "Epoch 47/100\n",
      "80/80 [==============================] - 0s 5ms/step - loss: 0.1390 - accuracy: 0.9399 - val_loss: 0.1506 - val_accuracy: 0.9347\n",
      "Epoch 48/100\n",
      "80/80 [==============================] - 0s 5ms/step - loss: 0.1350 - accuracy: 0.9408 - val_loss: 0.1498 - val_accuracy: 0.9356\n",
      "Epoch 49/100\n",
      "80/80 [==============================] - 0s 4ms/step - loss: 0.1336 - accuracy: 0.9410 - val_loss: 0.1485 - val_accuracy: 0.9357\n",
      "Epoch 50/100\n",
      "80/80 [==============================] - 0s 5ms/step - loss: 0.1723 - accuracy: 0.9340 - val_loss: 0.2085 - val_accuracy: 0.9212\n",
      "Epoch 51/100\n",
      "80/80 [==============================] - 0s 5ms/step - loss: 0.1679 - accuracy: 0.9282 - val_loss: 0.1755 - val_accuracy: 0.9257\n",
      "Epoch 52/100\n",
      "80/80 [==============================] - 0s 5ms/step - loss: 0.1529 - accuracy: 0.9372 - val_loss: 0.1632 - val_accuracy: 0.9344\n",
      "Epoch 53/100\n",
      "80/80 [==============================] - 0s 5ms/step - loss: 0.1425 - accuracy: 0.9412 - val_loss: 0.1550 - val_accuracy: 0.9376\n",
      "Epoch 54/100\n",
      "80/80 [==============================] - 0s 4ms/step - loss: 0.1387 - accuracy: 0.9431 - val_loss: 0.1586 - val_accuracy: 0.9374\n",
      "Epoch 55/100\n",
      "80/80 [==============================] - 0s 5ms/step - loss: 0.1371 - accuracy: 0.9424 - val_loss: 0.1531 - val_accuracy: 0.9384\n",
      "Epoch 56/100\n",
      "80/80 [==============================] - 0s 5ms/step - loss: 0.1403 - accuracy: 0.9404 - val_loss: 0.1625 - val_accuracy: 0.9372\n",
      "Epoch 57/100\n",
      "80/80 [==============================] - 0s 5ms/step - loss: 0.1355 - accuracy: 0.9431 - val_loss: 0.1520 - val_accuracy: 0.9381\n",
      "Epoch 58/100\n",
      "80/80 [==============================] - 0s 5ms/step - loss: 0.1340 - accuracy: 0.9428 - val_loss: 0.1517 - val_accuracy: 0.9372\n",
      "Epoch 59/100\n",
      "80/80 [==============================] - 0s 5ms/step - loss: 0.1336 - accuracy: 0.9442 - val_loss: 0.1513 - val_accuracy: 0.9368\n",
      "Epoch 60/100\n",
      "80/80 [==============================] - 0s 5ms/step - loss: 0.1323 - accuracy: 0.9448 - val_loss: 0.1500 - val_accuracy: 0.9381\n",
      "Epoch 61/100\n",
      "80/80 [==============================] - 0s 5ms/step - loss: 0.1317 - accuracy: 0.9445 - val_loss: 0.1497 - val_accuracy: 0.9379\n",
      "Epoch 62/100\n",
      "80/80 [==============================] - 0s 5ms/step - loss: 0.1301 - accuracy: 0.9457 - val_loss: 0.1505 - val_accuracy: 0.9363\n",
      "Epoch 63/100\n",
      "80/80 [==============================] - 0s 5ms/step - loss: 0.1297 - accuracy: 0.9449 - val_loss: 0.1448 - val_accuracy: 0.9396\n",
      "Epoch 64/100\n",
      "80/80 [==============================] - 0s 5ms/step - loss: 0.1291 - accuracy: 0.9448 - val_loss: 0.1462 - val_accuracy: 0.9387\n",
      "Epoch 65/100\n",
      "80/80 [==============================] - 0s 5ms/step - loss: 0.1282 - accuracy: 0.9462 - val_loss: 0.1474 - val_accuracy: 0.9385\n",
      "Epoch 66/100\n",
      "80/80 [==============================] - 0s 5ms/step - loss: 0.1277 - accuracy: 0.9460 - val_loss: 0.1453 - val_accuracy: 0.9388\n",
      "Epoch 67/100\n",
      "80/80 [==============================] - 0s 5ms/step - loss: 0.1270 - accuracy: 0.9463 - val_loss: 0.1440 - val_accuracy: 0.9397\n",
      "Epoch 68/100\n",
      "80/80 [==============================] - 0s 5ms/step - loss: 0.1268 - accuracy: 0.9468 - val_loss: 0.1449 - val_accuracy: 0.9396\n",
      "Epoch 69/100\n",
      "80/80 [==============================] - 0s 5ms/step - loss: 0.1262 - accuracy: 0.9473 - val_loss: 0.1436 - val_accuracy: 0.9399\n",
      "Epoch 70/100\n",
      "80/80 [==============================] - 0s 5ms/step - loss: 0.1254 - accuracy: 0.9475 - val_loss: 0.1444 - val_accuracy: 0.9404\n",
      "Epoch 71/100\n",
      "80/80 [==============================] - 0s 5ms/step - loss: 0.1246 - accuracy: 0.9478 - val_loss: 0.1434 - val_accuracy: 0.9407\n",
      "Epoch 72/100\n",
      "80/80 [==============================] - 0s 5ms/step - loss: 0.1263 - accuracy: 0.9476 - val_loss: 0.1456 - val_accuracy: 0.9399\n",
      "Epoch 73/100\n",
      "80/80 [==============================] - 0s 5ms/step - loss: 0.1247 - accuracy: 0.9476 - val_loss: 0.1498 - val_accuracy: 0.9412\n",
      "Epoch 74/100\n",
      "80/80 [==============================] - 0s 5ms/step - loss: 0.1243 - accuracy: 0.9487 - val_loss: 0.1436 - val_accuracy: 0.9410\n",
      "Epoch 75/100\n",
      "80/80 [==============================] - 0s 5ms/step - loss: 0.1226 - accuracy: 0.9486 - val_loss: 0.1435 - val_accuracy: 0.9419\n",
      "Epoch 76/100\n",
      "80/80 [==============================] - 0s 5ms/step - loss: 0.1237 - accuracy: 0.9493 - val_loss: 0.1432 - val_accuracy: 0.9416\n",
      "Epoch 77/100\n",
      "80/80 [==============================] - 0s 5ms/step - loss: 0.1225 - accuracy: 0.9486 - val_loss: 0.1426 - val_accuracy: 0.9421\n",
      "Epoch 78/100\n",
      "80/80 [==============================] - 0s 5ms/step - loss: 0.1223 - accuracy: 0.9503 - val_loss: 0.1425 - val_accuracy: 0.9422\n",
      "Epoch 79/100\n",
      "80/80 [==============================] - 0s 5ms/step - loss: 0.1213 - accuracy: 0.9487 - val_loss: 0.1420 - val_accuracy: 0.9428\n",
      "Epoch 80/100\n",
      "80/80 [==============================] - 0s 6ms/step - loss: 0.1202 - accuracy: 0.9505 - val_loss: 0.1420 - val_accuracy: 0.9434\n",
      "Epoch 81/100\n",
      "80/80 [==============================] - 0s 6ms/step - loss: 0.1194 - accuracy: 0.9501 - val_loss: 0.1437 - val_accuracy: 0.9435\n",
      "Epoch 82/100\n",
      "80/80 [==============================] - 0s 5ms/step - loss: 0.1194 - accuracy: 0.9517 - val_loss: 0.1449 - val_accuracy: 0.9432\n",
      "Epoch 83/100\n",
      "80/80 [==============================] - 1s 7ms/step - loss: 0.1191 - accuracy: 0.9513 - val_loss: 0.1424 - val_accuracy: 0.9443\n",
      "Epoch 84/100\n",
      "80/80 [==============================] - 0s 6ms/step - loss: 0.1183 - accuracy: 0.9511 - val_loss: 0.1504 - val_accuracy: 0.9431\n",
      "Epoch 85/100\n",
      "80/80 [==============================] - 0s 6ms/step - loss: 0.1168 - accuracy: 0.9523 - val_loss: 0.1414 - val_accuracy: 0.9443\n",
      "Epoch 86/100\n",
      "80/80 [==============================] - 1s 7ms/step - loss: 0.1165 - accuracy: 0.9520 - val_loss: 0.1440 - val_accuracy: 0.9451\n",
      "Epoch 87/100\n",
      "80/80 [==============================] - 1s 7ms/step - loss: 0.1161 - accuracy: 0.9520 - val_loss: 0.1454 - val_accuracy: 0.9460\n",
      "Epoch 88/100\n",
      "80/80 [==============================] - 0s 6ms/step - loss: 0.1155 - accuracy: 0.9526 - val_loss: 0.1389 - val_accuracy: 0.9463\n",
      "Epoch 89/100\n",
      "80/80 [==============================] - 0s 6ms/step - loss: 0.1168 - accuracy: 0.9520 - val_loss: 0.1417 - val_accuracy: 0.9468\n",
      "Epoch 90/100\n",
      "80/80 [==============================] - 0s 6ms/step - loss: 0.1143 - accuracy: 0.9525 - val_loss: 0.1437 - val_accuracy: 0.9469\n",
      "Epoch 91/100\n",
      "80/80 [==============================] - 0s 6ms/step - loss: 0.1133 - accuracy: 0.9536 - val_loss: 0.1365 - val_accuracy: 0.9471\n",
      "Epoch 92/100\n",
      "80/80 [==============================] - 0s 6ms/step - loss: 0.1129 - accuracy: 0.9541 - val_loss: 0.1431 - val_accuracy: 0.9469\n",
      "Epoch 93/100\n",
      "80/80 [==============================] - 0s 5ms/step - loss: 0.1125 - accuracy: 0.9545 - val_loss: 0.1457 - val_accuracy: 0.9479\n",
      "Epoch 94/100\n",
      "80/80 [==============================] - 0s 5ms/step - loss: 0.1118 - accuracy: 0.9548 - val_loss: 0.1501 - val_accuracy: 0.9487\n",
      "Epoch 95/100\n",
      "80/80 [==============================] - 0s 5ms/step - loss: 0.1110 - accuracy: 0.9548 - val_loss: 0.1478 - val_accuracy: 0.9485\n",
      "Epoch 96/100\n",
      "80/80 [==============================] - 0s 5ms/step - loss: 0.1097 - accuracy: 0.9558 - val_loss: 0.1614 - val_accuracy: 0.9488\n",
      "Epoch 97/100\n",
      "80/80 [==============================] - 0s 5ms/step - loss: 0.1099 - accuracy: 0.9559 - val_loss: 0.1425 - val_accuracy: 0.9501\n",
      "Epoch 98/100\n",
      "80/80 [==============================] - 0s 5ms/step - loss: 0.1248 - accuracy: 0.9527 - val_loss: 0.2001 - val_accuracy: 0.9468\n",
      "Epoch 99/100\n",
      "80/80 [==============================] - 0s 5ms/step - loss: 0.1122 - accuracy: 0.9565 - val_loss: 0.1394 - val_accuracy: 0.9507\n",
      "Epoch 100/100\n",
      "80/80 [==============================] - 0s 5ms/step - loss: 0.1079 - accuracy: 0.9564 - val_loss: 0.1455 - val_accuracy: 0.9490\n"
     ]
    }
   ],
   "source": [
    "history=model.fit(X_train, y_train, validation_data=(X_test, y_test),  epochs=100, batch_size=128,verbose=1, shuffle= True)"
   ]
  },
  {
   "cell_type": "code",
   "execution_count": 72,
   "metadata": {
    "colab": {
     "base_uri": "https://localhost:8080/",
     "height": 295
    },
    "id": "L89YMBiJMBOh",
    "outputId": "4d5ce1fb-7c7f-4762-fc3b-90990c771ff3"
   },
   "outputs": [
    {
     "data": {
      "image/png": "[encoded data removed]",
      "text/plain": [
       "<Figure size 432x288 with 1 Axes>"
      ]
     },
     "metadata": {
      "needs_background": "light",
      "tags": []
     },
     "output_type": "display_data"
    }
   ],
   "source": [
    "from matplotlib import pyplot as plt\n",
    "fig1= plt.gcf()\n",
    "acc1 = history .history['accuracy']\n",
    "acc1.insert(0 , 0)\n",
    "val_acc1 = history.history['val_accuracy']\n",
    "val_acc1.insert(0 , 0)\n",
    "plt.plot(acc1)\n",
    "plt.plot(val_acc1)\n",
    "plt.title('Model Prediction Accuracy')\n",
    "plt.ylabel('Accurcy')\n",
    "plt.xlabel('Epoch')\n",
    "plt.legend(['Train', 'Test'], loc='upper left')\n",
    "plt.ylim(0,1)\n",
    "plt.show()\n",
    "fig1.savefig(\"feedforward_accuracy.pdf\")"
   ]
  }
 ],
 "metadata": {
  "colab": {
   "name": "Untitled4.ipynb",
   "provenance": []
  },
  "kernelspec": {
   "display_name": "Python 3",
   "language": "python",
   "name": "python3"
  },
  "language_info": {
   "codemirror_mode": {
    "name": "ipython",
    "version": 3
   },
   "file_extension": ".py",
   "mimetype": "text/x-python",
   "name": "python",
   "nbconvert_exporter": "python",
   "pygments_lexer": "ipython3",
   "version": "3.8.3"
  }
 },
 "nbformat": 4,
 "nbformat_minor": 1
}
